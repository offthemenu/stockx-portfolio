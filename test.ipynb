{
 "cells": [
  {
   "cell_type": "code",
   "execution_count": 1,
   "metadata": {},
   "outputs": [
    {
     "data": {
      "text/plain": [
       "['ASCENDING',\n",
       " 'AsyncMongoClient',\n",
       " 'ContextManager',\n",
       " 'CursorType',\n",
       " 'DESCENDING',\n",
       " 'DeleteMany',\n",
       " 'DeleteOne',\n",
       " 'GEO2D',\n",
       " 'GEOSPHERE',\n",
       " 'HASHED',\n",
       " 'IndexModel',\n",
       " 'InsertOne',\n",
       " 'MAX_SUPPORTED_WIRE_VERSION',\n",
       " 'MIN_SUPPORTED_WIRE_VERSION',\n",
       " 'MongoClient',\n",
       " 'Optional',\n",
       " 'ReadPreference',\n",
       " 'ReplaceOne',\n",
       " 'ReturnDocument',\n",
       " 'TEXT',\n",
       " 'UpdateMany',\n",
       " 'UpdateOne',\n",
       " 'WriteConcern',\n",
       " '__all__',\n",
       " '__builtins__',\n",
       " '__cached__',\n",
       " '__doc__',\n",
       " '__file__',\n",
       " '__loader__',\n",
       " '__name__',\n",
       " '__package__',\n",
       " '__path__',\n",
       " '__spec__',\n",
       " '__version__',\n",
       " '_client_bulk_shared',\n",
       " '_cmessage',\n",
       " '_csot',\n",
       " '_version',\n",
       " 'annotations',\n",
       " 'asynchronous',\n",
       " 'bulk_shared',\n",
       " 'client_options',\n",
       " 'collation',\n",
       " 'common',\n",
       " 'compression_support',\n",
       " 'cursor',\n",
       " 'cursor_shared',\n",
       " 'database_shared',\n",
       " 'driver_info',\n",
       " 'errors',\n",
       " 'get_version_string',\n",
       " 'has_c',\n",
       " 'hello',\n",
       " 'helpers_shared',\n",
       " 'lock',\n",
       " 'logger',\n",
       " 'max_staleness_selectors',\n",
       " 'message',\n",
       " 'monitoring',\n",
       " 'network_layer',\n",
       " 'operations',\n",
       " 'pool_options',\n",
       " 'read_concern',\n",
       " 'read_preferences',\n",
       " 'response',\n",
       " 'results',\n",
       " 'server_api',\n",
       " 'server_description',\n",
       " 'server_selectors',\n",
       " 'server_type',\n",
       " 'socket_checker',\n",
       " 'srv_resolver',\n",
       " 'ssl_context',\n",
       " 'ssl_support',\n",
       " 'synchronous',\n",
       " 'timeout',\n",
       " 'topology_description',\n",
       " 'typings',\n",
       " 'uri_parser',\n",
       " 'version',\n",
       " 'version_tuple',\n",
       " 'write_concern']"
      ]
     },
     "execution_count": 1,
     "metadata": {},
     "output_type": "execute_result"
    }
   ],
   "source": [
    "import pymongo\n",
    "\n",
    "dir(pymongo)"
   ]
  },
  {
   "cell_type": "code",
   "execution_count": null,
   "metadata": {},
   "outputs": [],
   "source": []
  }
 ],
 "metadata": {
  "kernelspec": {
   "display_name": ".venv",
   "language": "python",
   "name": "python3"
  },
  "language_info": {
   "codemirror_mode": {
    "name": "ipython",
    "version": 3
   },
   "file_extension": ".py",
   "mimetype": "text/x-python",
   "name": "python",
   "nbconvert_exporter": "python",
   "pygments_lexer": "ipython3",
   "version": "3.12.3"
  }
 },
 "nbformat": 4,
 "nbformat_minor": 2
}
